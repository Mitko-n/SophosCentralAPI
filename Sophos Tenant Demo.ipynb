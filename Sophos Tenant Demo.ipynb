{
 "cells": [
  {
   "cell_type": "code",
   "execution_count": 1,
   "metadata": {},
   "outputs": [],
   "source": [
    "import json\n",
    "\n",
    "client_info_path = \".\\\\Credentials\\\\api_credential_tenant.json\"\n",
    "client_info = json.load(open(client_info_path))\n",
    "client_id = client_info[\"client_id\"]\n",
    "client_secret = client_info[\"client_secret\"]"
   ]
  },
  {
   "cell_type": "code",
   "execution_count": 2,
   "metadata": {},
   "outputs": [],
   "source": [
    "import TenantAPI\n",
    "\n",
    "tenant = TenantAPI.Tenant(client_id, client_secret)"
   ]
  },
  {
   "cell_type": "code",
   "execution_count": null,
   "metadata": {},
   "outputs": [],
   "source": [
    "# Alerts List\n",
    "endpoint = \"/common/v1/alerts\"\n",
    "alerts_by_severity = {\"high\": [], \"medium\": [], \"low\": []}\n",
    "base_endpoint = endpoint\n",
    "alert_keys = (\"id\", \"allowedActions\", \"category\", \"description\", \"product\", \"raisedAt\", \"severity\", \"tenant\", \"type\")\n",
    "\n",
    "try:\n",
    "    while True:\n",
    "        response = tenant.get(base_endpoint)\n",
    "\n",
    "        if response.get(\"status\") == \"success\":\n",
    "            data = response.get(\"data\", {})\n",
    "            print(\"Request was successful!\")\n",
    "            alerts = data.get(\"items\", [])\n",
    "            next_page = data.get(\"pages\", {}).get(\"nextKey\")\n",
    "\n",
    "            for alert in alerts:\n",
    "                alert_dict = {key: alert.get(key) for key in alert_keys}\n",
    "                alerts_by_severity.get(alert.get(\"severity\"), []).append(alert_dict)\n",
    "\n",
    "            if next_page:\n",
    "                base_endpoint = f\"{endpoint}?pageFromKey={next_page}\"\n",
    "            else:\n",
    "                break\n",
    "        else:\n",
    "            print(\"Error Message:\", response.get(\"error\"), \"\\nError Details:\", response.get(\"details\", \"No further details available.\"))\n",
    "            break\n",
    "finally:\n",
    "    tenant.close()\n",
    "\n",
    "combined_alert_list = alerts_by_severity[\"high\"] + alerts_by_severity[\"medium\"] + alerts_by_severity[\"low\"]\n",
    "\n",
    "list_of_high_alerts = alerts_by_severity[\"high\"]\n",
    "list_of_medium_alerts = alerts_by_severity[\"medium\"]\n",
    "list_of_low_alerts = alerts_by_severity[\"low\"]"
   ]
  },
  {
   "cell_type": "code",
   "execution_count": null,
   "metadata": {},
   "outputs": [],
   "source": [
    "# Print Alerts\n",
    "\n",
    "print(\"All alerts:\", len(combined_alert_list))\n",
    "\n",
    "print(\"\\nHigh Alerts:\", len(list_of_high_alerts))\n",
    "for item in list_of_high_alerts:\n",
    "    print(item)\n",
    "\n",
    "print(\"\\nMedium Alerts:\", len(list_of_medium_alerts))\n",
    "for item in list_of_medium_alerts:\n",
    "    print(item)\n",
    "\n",
    "print(\"\\nLow Alerts:\", len(list_of_low_alerts))\n",
    "for item in list_of_low_alerts:\n",
    "    print(item)"
   ]
  },
  {
   "cell_type": "code",
   "execution_count": null,
   "metadata": {},
   "outputs": [],
   "source": [
    "# List of Endpoints\n",
    "\n",
    "endpoint = \"/endpoint/v1/endpoints\"\n",
    "list_of_endpoints = []\n",
    "\n",
    "with TenantAPI.Tenant(client_id, client_secret) as tenant:\n",
    "    while True:\n",
    "        response = tenant.get(endpoint)\n",
    "\n",
    "        if response.get(\"status\") == \"success\":\n",
    "            response_data = response.get(\"data\", {})\n",
    "            print(\"Request was successful!\")\n",
    "            list_of_endpoints.extend(response_data.get(\"items\", []))\n",
    "\n",
    "            next_page = response_data.get(\"pages\", {}).get(\"nextKey\")\n",
    "            if not next_page:\n",
    "                break\n",
    "            endpoint = f\"/endpoint/v1/endpoints?pageFromKey={next_page}\"\n",
    "        else:\n",
    "            print(\"Error Message:\", response.get(\"message\"))\n",
    "            print(\"Error Details:\", response.get(\"details\", \"No further details available.\"))\n",
    "            break\n",
    "\n",
    "\n",
    "for item in list_of_endpoints:\n",
    "    print(item)"
   ]
  },
  {
   "cell_type": "code",
   "execution_count": 19,
   "metadata": {},
   "outputs": [],
   "source": [
    "tenant = TenantAPI.Tenant(client_id, client_secret)"
   ]
  },
  {
   "cell_type": "code",
   "execution_count": null,
   "metadata": {},
   "outputs": [],
   "source": [
    "# Get alerts matching criteria in query parameters.\n",
    "\n",
    "endpoint = \"/common/v1/alerts/\"\n",
    "\n",
    "# Filter by product and severity\n",
    "params = {\n",
    "    \"product\": \"firewall\",\n",
    "    # \"severity\": \"high\",\n",
    "}\n",
    "\n",
    "response = tenant.get(endpoint, params=params)\n",
    "\n",
    "if response.get(\"status\") == \"success\":\n",
    "    items = response.get(\"data\", {}).get(\"items\", [])\n",
    "    for item in items:\n",
    "        print(item)\n",
    "else:\n",
    "    print(\"Error Message:\", response.get(\"error\", \"Unknown error\"))\n",
    "    print(\"Error Details:\", response.get(\"details\", \"No further details available.\"))"
   ]
  },
  {
   "cell_type": "code",
   "execution_count": null,
   "metadata": {},
   "outputs": [],
   "source": [
    "# Take an action on a specific alert.\n",
    "\n",
    "alert_id = 'f632d4f4-740b-427f-9f8a-c64e2ab2b62d'\n",
    "\n",
    "\n",
    "endpoint = f\"/common/v1/alerts/{alert_id}/actions\"\n",
    "\n",
    "body = {\n",
    "    \"action\": \"acknowledge\",\n",
    "    \"message\": \"Central API Test\",\n",
    "}\n",
    "\n",
    "response = tenant.post(endpoint, json=body)\n",
    "\n",
    "if response.get(\"status\") == \"success\":\n",
    "    print(json.dumps(response.get(\"data\"), indent=4))\n",
    "else:\n",
    "    print(\"Error Message:\", response.get(\"error\", \"Unknown error\"))\n",
    "    print(\"Error Details:\", response.get(\"details\", \"No further details available.\"))"
   ]
  },
  {
   "cell_type": "code",
   "execution_count": null,
   "metadata": {},
   "outputs": [],
   "source": [
    "# Get static packages\n",
    "\n",
    "endpoint = f\"/endpoint/v1/software/packages/static\"\n",
    "\n",
    "# Sorted by Release Date\n",
    "params = {\n",
    "    \"sort\": \"releasedAt:desc\",\n",
    "}\n",
    "\n",
    "# params = {\"sort\": \"expiresAt:asc\"}\n",
    "response = tenant.get(endpoint, params=params)\n",
    "\n",
    "if response.get(\"status\") == \"success\":\n",
    "    for item in response.get(\"data\").get(\"items\", []):\n",
    "        print(item)\n",
    "else:\n",
    "    print(\"Error Message:\", response.get(\"error\", \"Unknown error\"))\n",
    "    print(\"Error Details:\", response.get(\"details\", \"No further details available.\"))"
   ]
  },
  {
   "cell_type": "code",
   "execution_count": 10,
   "metadata": {},
   "outputs": [],
   "source": [
    "tenant.close()"
   ]
  },
  {
   "cell_type": "code",
   "execution_count": null,
   "metadata": {},
   "outputs": [],
   "source": [
    "headers = {\n",
    "    # \"X-Tenant-ID\": 'tenant_id',\n",
    "    \"Authorization\": f\"Bearer {'access_token'}\",\n",
    "    \"Accept\": \"application/json\",\n",
    "    \"Content-Type\": \"application/json\",\n",
    "}\n",
    "\n",
    "headers.pop(\"X-Tenant-ID\", None)\n",
    "headers.pop(\"X-Partner-ID\", None)\n",
    "headers.pop(\"X-Organization-ID\", None)\n",
    "\n",
    "\n",
    "headers |= {\"X-Partner-ID\": \"partner_id\"}\n",
    "\n",
    "\n",
    "print(headers)"
   ]
  },
  {
   "cell_type": "code",
   "execution_count": null,
   "metadata": {},
   "outputs": [],
   "source": [
    "headers"
   ]
  }
 ],
 "metadata": {
  "kernelspec": {
   "display_name": "Python 3",
   "language": "python",
   "name": "python3"
  },
  "language_info": {
   "codemirror_mode": {
    "name": "ipython",
    "version": 3
   },
   "file_extension": ".py",
   "mimetype": "text/x-python",
   "name": "python",
   "nbconvert_exporter": "python",
   "pygments_lexer": "ipython3",
   "version": "3.12.6"
  }
 },
 "nbformat": 4,
 "nbformat_minor": 2
}
